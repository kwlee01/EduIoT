{
 "cells": [
  {
   "cell_type": "code",
   "execution_count": 17,
   "id": "698f205b",
   "metadata": {},
   "outputs": [
    {
     "name": "stdout",
     "output_type": "stream",
     "text": [
      "“Hello World\n"
     ]
    }
   ],
   "source": [
    "print (\"“Hello World\")\n"
   ]
  },
  {
   "cell_type": "code",
   "execution_count": 18,
   "id": "3669a209",
   "metadata": {},
   "outputs": [
    {
     "data": {
      "text/plain": [
       "6"
      ]
     },
     "execution_count": 18,
     "metadata": {},
     "output_type": "execute_result"
    }
   ],
   "source": [
    "1+2+3"
   ]
  },
  {
   "cell_type": "code",
   "execution_count": 19,
   "id": "a9d19d9e",
   "metadata": {},
   "outputs": [
    {
     "data": {
      "text/plain": [
       "True"
      ]
     },
     "execution_count": 19,
     "metadata": {},
     "output_type": "execute_result"
    }
   ],
   "source": [
    "(0 < 1) and (2 < 3)\n"
   ]
  },
  {
   "cell_type": "code",
   "execution_count": 20,
   "id": "0b895798",
   "metadata": {},
   "outputs": [
    {
     "data": {
      "text/plain": [
       "True"
      ]
     },
     "execution_count": 20,
     "metadata": {},
     "output_type": "execute_result"
    }
   ],
   "source": [
    "not (1 == 2)\n"
   ]
  },
  {
   "cell_type": "code",
   "execution_count": 21,
   "id": "c0828ef5",
   "metadata": {},
   "outputs": [
    {
     "name": "stdout",
     "output_type": "stream",
     "text": [
      "3.600000 is 1.2 * 3\n"
     ]
    }
   ],
   "source": [
    "n=1\n",
    "name='kim'\n",
    "n=n+2\n",
    "value=1.2*n\n",
    "print(\"%f is 1.2 * %d\" % (value,n))"
   ]
  },
  {
   "cell_type": "code",
   "execution_count": 30,
   "id": "8ca24f87",
   "metadata": {},
   "outputs": [
    {
     "name": "stdout",
     "output_type": "stream",
     "text": [
      " 1 1\n",
      " 2 2\n",
      " 3 3\n",
      " 4 5\n",
      " 5 8\n",
      " 6 13\n",
      " 7 21\n",
      " 8 34\n",
      " 9 55\n"
     ]
    }
   ],
   "source": [
    "num = 1\n",
    "prev = 0\n",
    "cur = 1\n",
    "while num < 10:\n",
    "    next = cur + prev\n",
    "    print (\"%2d %d\" % (num, next))\n",
    "    prev = cur\n",
    "    cur = next\n",
    "    num += 1\n"
   ]
  },
  {
   "cell_type": "code",
   "execution_count": 33,
   "id": "f6661e3b",
   "metadata": {},
   "outputs": [
    {
     "name": "stdout",
     "output_type": "stream",
     "text": [
      "0 2\n"
     ]
    }
   ],
   "source": [
    "m = 0\n",
    "n = 1\n",
    "def func():\n",
    "    global n\n",
    "    #m += 1\n",
    "    n += 1\n",
    "func()\n",
    "print (m, n)\n"
   ]
  },
  {
   "cell_type": "code",
   "execution_count": 37,
   "id": "f4cf8015",
   "metadata": {},
   "outputs": [
    {
     "name": "stdout",
     "output_type": "stream",
     "text": [
      "t = 0\n",
      "t = 1\n",
      "t = 2\n",
      "t = 3\n",
      "t = 4\n",
      "t = 5\n",
      "t = 6\n",
      "t = 7\n",
      "t = 8\n",
      "t = 9\n"
     ]
    }
   ],
   "source": [
    "def counter(max):\n",
    "    t = 0\n",
    "    def output():\n",
    "        print (\"t = %d\" % t)\n",
    "    while t < max:\n",
    "        output()\n",
    "        t += 1\n",
    "counter(10)\n"
   ]
  },
  {
   "cell_type": "code",
   "execution_count": 13,
   "id": "b21ba4d4",
   "metadata": {},
   "outputs": [],
   "source": [
    "def factorial(n):\n",
    "    if n <= 1:\n",
    "        return 1\n",
    "    else:\n",
    "        return n * factorial(n - 1)\n"
   ]
  },
  {
   "cell_type": "code",
   "execution_count": 14,
   "id": "411e5f01",
   "metadata": {},
   "outputs": [
    {
     "data": {
      "text/plain": [
       "6"
      ]
     },
     "execution_count": 14,
     "metadata": {},
     "output_type": "execute_result"
    }
   ],
   "source": [
    "factorial(3)"
   ]
  },
  {
   "cell_type": "code",
   "execution_count": 38,
   "id": "f9190507",
   "metadata": {},
   "outputs": [
    {
     "name": "stdout",
     "output_type": "stream",
     "text": [
      "H\n",
      " Wo\n",
      "d\n",
      "Hello WorldHello World\n",
      "Hello WorldGoodbye\n"
     ]
    }
   ],
   "source": [
    "a = \"Hello World\"\n",
    "print(a[0])\n",
    "print(a[5:8])\n",
    "print(a[-1])\n",
    "print(a*2)\n",
    "b=\"Goodbye\"\n",
    "print(a+b)"
   ]
  },
  {
   "cell_type": "code",
   "execution_count": 42,
   "id": "dbfc0288",
   "metadata": {},
   "outputs": [
    {
     "name": "stdout",
     "output_type": "stream",
     "text": [
      "0\n",
      "['Park', 'Choi']\n",
      "[0, 1, 2, 3, 'Kim', 'Lee', 'Park', 'Choi']\n"
     ]
    }
   ],
   "source": [
    "numbers = [0, 1, 2, 3]\n",
    "names = [\"Kim\", \"Lee\", \"Park\", \"Choi\"]\n",
    "print(numbers[0])\n",
    "print(names[2:])\n",
    "print(numbers+names)\n"
   ]
  },
  {
   "cell_type": "code",
   "execution_count": null,
   "id": "bc2bda32",
   "metadata": {},
   "outputs": [],
   "source": []
  }
 ],
 "metadata": {
  "kernelspec": {
   "display_name": "Python 3 (ipykernel)",
   "language": "python",
   "name": "python3"
  },
  "language_info": {
   "codemirror_mode": {
    "name": "ipython",
    "version": 3
   },
   "file_extension": ".py",
   "mimetype": "text/x-python",
   "name": "python",
   "nbconvert_exporter": "python",
   "pygments_lexer": "ipython3",
   "version": "3.10.9"
  }
 },
 "nbformat": 4,
 "nbformat_minor": 5
}
