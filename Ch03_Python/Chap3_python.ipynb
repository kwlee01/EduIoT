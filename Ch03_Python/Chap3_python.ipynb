{
 "cells": [
  {
   "cell_type": "code",
   "execution_count": 18,
   "id": "698f205b",
   "metadata": {},
   "outputs": [
    {
     "name": "stdout",
     "output_type": "stream",
     "text": [
      "Hello World !!!\n"
     ]
    }
   ],
   "source": [
    "print (\"Hello World !!!\")\n"
   ]
  },
  {
   "cell_type": "code",
   "execution_count": 7,
   "id": "3669a209",
   "metadata": {},
   "outputs": [
    {
     "data": {
      "text/plain": [
       "6"
      ]
     },
     "execution_count": 7,
     "metadata": {},
     "output_type": "execute_result"
    }
   ],
   "source": [
    "1+2+3"
   ]
  },
  {
   "cell_type": "code",
   "execution_count": 21,
   "id": "a9d19d9e",
   "metadata": {},
   "outputs": [
    {
     "data": {
      "text/plain": [
       "False"
      ]
     },
     "execution_count": 21,
     "metadata": {},
     "output_type": "execute_result"
    }
   ],
   "source": [
    "(0 < 1) and (2 < 3)\n",
    "1==3 # Only this line is run.\n"
   ]
  },
  {
   "cell_type": "code",
   "execution_count": 22,
   "id": "8c371f6c",
   "metadata": {},
   "outputs": [
    {
     "name": "stdout",
     "output_type": "stream",
     "text": [
      "False\n",
      "False\n"
     ]
    }
   ],
   "source": [
    "print((0 < 1) and (2 > 3))\n",
    "print(1==3)"
   ]
  },
  {
   "cell_type": "code",
   "execution_count": 12,
   "id": "0b895798",
   "metadata": {},
   "outputs": [
    {
     "data": {
      "text/plain": [
       "True"
      ]
     },
     "execution_count": 12,
     "metadata": {},
     "output_type": "execute_result"
    }
   ],
   "source": [
    "not (\"a\" == 'A')\n"
   ]
  },
  {
   "cell_type": "code",
   "execution_count": 13,
   "id": "a04a0950",
   "metadata": {},
   "outputs": [
    {
     "data": {
      "text/plain": [
       "True"
      ]
     },
     "execution_count": 13,
     "metadata": {},
     "output_type": "execute_result"
    }
   ],
   "source": [
    "not (1 == 2)"
   ]
  },
  {
   "cell_type": "code",
   "execution_count": 21,
   "id": "c0828ef5",
   "metadata": {},
   "outputs": [
    {
     "name": "stdout",
     "output_type": "stream",
     "text": [
      "3.600000 is 1.2 * 3\n"
     ]
    }
   ],
   "source": [
    "n=1\n",
    "name='kim'\n",
    "n=n+2\n",
    "value=1.2*n\n",
    "print(\"%f is 1.2 * %d\" % (value,n))"
   ]
  },
  {
   "cell_type": "code",
   "execution_count": 14,
   "id": "0a2cdaab",
   "metadata": {},
   "outputs": [
    {
     "name": "stdout",
     "output_type": "stream",
     "text": [
      "5.400000 is 1.2 * 3\n"
     ]
    }
   ],
   "source": [
    "n=1\n",
    "name=\"kim\"\n",
    "n=n+2\n",
    "value=1.8*n\n",
    "print(\"%f is 1.2 * %d\" % (value,n))"
   ]
  },
  {
   "cell_type": "code",
   "execution_count": 30,
   "id": "8ca24f87",
   "metadata": {},
   "outputs": [
    {
     "name": "stdout",
     "output_type": "stream",
     "text": [
      " 1 1\n",
      " 2 2\n",
      " 3 3\n",
      " 4 5\n",
      " 5 8\n",
      " 6 13\n",
      " 7 21\n",
      " 8 34\n",
      " 9 55\n"
     ]
    }
   ],
   "source": [
    "num = 1\n",
    "prev = 0\n",
    "cur = 1\n",
    "while num < 10:\n",
    "    next = cur + prev\n",
    "    print (\"%2d %d\" % (num, next))\n",
    "    prev = cur\n",
    "    cur = next\n",
    "    num += 1\n"
   ]
  },
  {
   "cell_type": "code",
   "execution_count": 17,
   "id": "f6661e3b",
   "metadata": {},
   "outputs": [
    {
     "name": "stdout",
     "output_type": "stream",
     "text": [
      "0 2\n"
     ]
    }
   ],
   "source": [
    "m = 0\n",
    "n = 1\n",
    "def func():\n",
    "    global n\n",
    "    #m += 1\n",
    "    n += 1\n",
    "func()\n",
    "print (m, n)\n"
   ]
  },
  {
   "cell_type": "code",
   "execution_count": 37,
   "id": "f4cf8015",
   "metadata": {},
   "outputs": [
    {
     "name": "stdout",
     "output_type": "stream",
     "text": [
      "t = 0\n",
      "t = 1\n",
      "t = 2\n",
      "t = 3\n",
      "t = 4\n",
      "t = 5\n",
      "t = 6\n",
      "t = 7\n",
      "t = 8\n",
      "t = 9\n"
     ]
    }
   ],
   "source": [
    "def counter(max):\n",
    "    t = 0\n",
    "    def output():\n",
    "        print (\"t = %d\" % t)\n",
    "    while t < max:\n",
    "        output()\n",
    "        t += 1\n",
    "counter(10)\n"
   ]
  },
  {
   "cell_type": "code",
   "execution_count": 13,
   "id": "b21ba4d4",
   "metadata": {},
   "outputs": [],
   "source": [
    "def factorial(n):\n",
    "    if n <= 1:\n",
    "        return 1\n",
    "    else:\n",
    "        return n * factorial(n - 1)\n"
   ]
  },
  {
   "cell_type": "code",
   "execution_count": 14,
   "id": "411e5f01",
   "metadata": {},
   "outputs": [
    {
     "data": {
      "text/plain": [
       "6"
      ]
     },
     "execution_count": 14,
     "metadata": {},
     "output_type": "execute_result"
    }
   ],
   "source": [
    "factorial(3)"
   ]
  },
  {
   "cell_type": "code",
   "execution_count": 38,
   "id": "f9190507",
   "metadata": {},
   "outputs": [
    {
     "name": "stdout",
     "output_type": "stream",
     "text": [
      "H\n",
      " Wo\n",
      "d\n",
      "Hello WorldHello World\n",
      "Hello WorldGoodbye\n"
     ]
    }
   ],
   "source": [
    "a = \"Hello World\"\n",
    "print(a[0])\n",
    "print(a[5:8])\n",
    "print(a[-1])\n",
    "print(a*2)\n",
    "b=\"Goodbye\"\n",
    "print(a+b)"
   ]
  },
  {
   "cell_type": "code",
   "execution_count": 24,
   "id": "dbfc0288",
   "metadata": {},
   "outputs": [
    {
     "name": "stdout",
     "output_type": "stream",
     "text": [
      "0\n",
      "['Park', 'Choi']\n",
      "[0, 1, 2, 3, 'Kim', 'Lee', 'Park', 'Choi']\n"
     ]
    }
   ],
   "source": [
    "numbers = [0, 1, 2, 3]\n",
    "names = [\"Kim\", \"Lee\", \"Park\", \"Choi\"]\n",
    "print(numbers[0])\n",
    "print(names[2:])\n",
    "print(numbers+names)\n"
   ]
  },
  {
   "cell_type": "code",
   "execution_count": 29,
   "id": "27452a6e",
   "metadata": {},
   "outputs": [
    {
     "name": "stdout",
     "output_type": "stream",
     "text": [
      "10\n"
     ]
    }
   ],
   "source": [
    "#numbers = [0, 1, 2, 3,4]\n",
    "numbers[0]=10\n",
    "print(numbers[0])"
   ]
  },
  {
   "cell_type": "code",
   "execution_count": 27,
   "id": "e80d817f",
   "metadata": {},
   "outputs": [],
   "source": [
    "person=(\"kim\",24,'maie')\n"
   ]
  },
  {
   "cell_type": "code",
   "execution_count": 28,
   "id": "ae8c7b6c",
   "metadata": {},
   "outputs": [
    {
     "ename": "TypeError",
     "evalue": "'tuple' object does not support item assignment",
     "output_type": "error",
     "traceback": [
      "\u001b[1;31m---------------------------------------------------------------------------\u001b[0m",
      "\u001b[1;31mTypeError\u001b[0m                                 Traceback (most recent call last)",
      "\u001b[1;32m~\\AppData\\Local\\Temp\\ipykernel_6236\\2026928916.py\u001b[0m in \u001b[0;36m<module>\u001b[1;34m\u001b[0m\n\u001b[1;32m----> 1\u001b[1;33m \u001b[0mperson\u001b[0m\u001b[1;33m[\u001b[0m\u001b[1;36m0\u001b[0m\u001b[1;33m]\u001b[0m\u001b[1;33m=\u001b[0m\u001b[1;34m\"Lee\"\u001b[0m\u001b[1;33m\u001b[0m\u001b[1;33m\u001b[0m\u001b[0m\n\u001b[0m",
      "\u001b[1;31mTypeError\u001b[0m: 'tuple' object does not support item assignment"
     ]
    }
   ],
   "source": [
    "person[0]=\"Lee\" # errpr."
   ]
  },
  {
   "cell_type": "code",
   "execution_count": 30,
   "id": "b5726daf",
   "metadata": {},
   "outputs": [
    {
     "name": "stdout",
     "output_type": "stream",
     "text": [
      "()\n"
     ]
    }
   ],
   "source": [
    "a=()\n",
    "print(a)"
   ]
  },
  {
   "cell_type": "code",
   "execution_count": 31,
   "id": "490a8ef5",
   "metadata": {},
   "outputs": [
    {
     "name": "stdout",
     "output_type": "stream",
     "text": [
      "(('kim', 24, 'maie'),)\n"
     ]
    }
   ],
   "source": [
    "b=(person,)\n",
    "print(b)"
   ]
  },
  {
   "cell_type": "code",
   "execution_count": 33,
   "id": "8d21a4d7",
   "metadata": {},
   "outputs": [
    {
     "name": "stdout",
     "output_type": "stream",
     "text": [
      "kim\n",
      "maie\n"
     ]
    }
   ],
   "source": [
    "name, age, g=person\n",
    "print(name)\n",
    "print(g)"
   ]
  },
  {
   "cell_type": "code",
   "execution_count": 34,
   "id": "0f719bc9",
   "metadata": {},
   "outputs": [
    {
     "name": "stdout",
     "output_type": "stream",
     "text": [
      "{'e', 'l', 'o', 'H'}\n"
     ]
    }
   ],
   "source": [
    "even=set([0,2,4,6])\n",
    "odd=set(\"Hello\")\n",
    "print(odd)"
   ]
  },
  {
   "cell_type": "code",
   "execution_count": 35,
   "id": "8f4ab761",
   "metadata": {},
   "outputs": [
    {
     "name": "stdout",
     "output_type": "stream",
     "text": [
      "Hello\n"
     ]
    }
   ],
   "source": [
    "print(\"Hello\")"
   ]
  },
  {
   "cell_type": "code",
   "execution_count": 36,
   "id": "4bc2e376",
   "metadata": {},
   "outputs": [
    {
     "name": "stdout",
     "output_type": "stream",
     "text": [
      "set()\n"
     ]
    }
   ],
   "source": [
    "print(even&odd)"
   ]
  },
  {
   "cell_type": "code",
   "execution_count": 42,
   "id": "6ffcd305",
   "metadata": {},
   "outputs": [
    {
     "name": "stdout",
     "output_type": "stream",
     "text": [
      "{2, 4, 6}\n",
      "{'e', 'l', 'o'}\n"
     ]
    }
   ],
   "source": [
    "#ven.remove(0)\n",
    "print(even)\n",
    "odd.remove('H')\n",
    "print(odd)"
   ]
  },
  {
   "cell_type": "code",
   "execution_count": 43,
   "id": "112d4ab6",
   "metadata": {},
   "outputs": [
    {
     "data": {
      "text/plain": [
       "int"
      ]
     },
     "execution_count": 43,
     "metadata": {},
     "output_type": "execute_result"
    }
   ],
   "source": [
    "type(10)"
   ]
  },
  {
   "cell_type": "code",
   "execution_count": 44,
   "id": "fcec6355",
   "metadata": {},
   "outputs": [
    {
     "name": "stdout",
     "output_type": "stream",
     "text": [
      "<class 'int'>\n"
     ]
    }
   ],
   "source": [
    "print(type(10))"
   ]
  },
  {
   "cell_type": "code",
   "execution_count": 45,
   "id": "17ed65c9",
   "metadata": {},
   "outputs": [
    {
     "name": "stdout",
     "output_type": "stream",
     "text": [
      "<class 'type'>\n"
     ]
    }
   ],
   "source": [
    "print(type(type(10)))"
   ]
  },
  {
   "cell_type": "code",
   "execution_count": 57,
   "id": "600431c1",
   "metadata": {},
   "outputs": [
    {
     "name": "stdout",
     "output_type": "stream",
     "text": [
      "0\n",
      "1\n",
      "2\n",
      "3\n",
      "4\n",
      "5\n",
      "6\n",
      "7\n",
      "8\n",
      "9\n",
      "10\n",
      "11\n"
     ]
    }
   ],
   "source": [
    "#Setup\n",
    "n=0\n",
    "\n",
    "#Loop\n",
    "while n<=10:\n",
    "    if ((n %2)==0):\n",
    "        print(n)\n",
    "        print(n+1)\n",
    "    n=n+1"
   ]
  },
  {
   "cell_type": "code",
   "execution_count": 60,
   "id": "a921fd7b",
   "metadata": {},
   "outputs": [
    {
     "name": "stdout",
     "output_type": "stream",
     "text": [
      "max is 10\n"
     ]
    }
   ],
   "source": [
    "a=10\n",
    "b=3\n",
    "if a>b:\n",
    "    print(\"max is %d\" % a)\n",
    "else:\n",
    "    print(\"max is %d\" % b)"
   ]
  },
  {
   "cell_type": "code",
   "execution_count": 71,
   "id": "481db982",
   "metadata": {},
   "outputs": [
    {
     "name": "stdout",
     "output_type": "stream",
     "text": [
      "3 x 1 =  3    4 x 1 =  4\n",
      "3 x 2 =  6    4 x 2 =  8\n",
      "3 x 3 =  9    4 x 3 = 12\n",
      "3 x 4 = 12    4 x 4 = 16\n",
      "3 x 5 = 15    4 x 5 = 20\n",
      "3 x 6 = 18    4 x 6 = 24\n",
      "3 x 7 = 21    4 x 7 = 28\n",
      "3 x 8 = 24    4 x 8 = 32\n",
      "3 x 9 = 27    4 x 9 = 36\n"
     ]
    }
   ],
   "source": [
    "n=3\n",
    "m=4\n",
    "for i in range(1,10):\n",
    "    print(\"%d x %d = %2d    %d x %d = %2d\" %(n, i, n*i,m,i, m*i))"
   ]
  },
  {
   "cell_type": "code",
   "execution_count": 74,
   "id": "57c1092b",
   "metadata": {},
   "outputs": [
    {
     "name": "stdout",
     "output_type": "stream",
     "text": [
      "0^2 = 0\n",
      "1^2 = 1\n",
      "2^2 = 4\n",
      "3^2 = 9\n",
      "4^2 = 16\n"
     ]
    }
   ],
   "source": [
    "for i in range(5):\n",
    "    print(\"%d^2 = %d\" % (i,i*i))\n",
    "    "
   ]
  },
  {
   "cell_type": "code",
   "execution_count": 79,
   "id": "2b65290d",
   "metadata": {},
   "outputs": [
    {
     "name": "stdout",
     "output_type": "stream",
     "text": [
      "0 ^2 =  0\n",
      "2 ^2 =  4\n",
      "4 ^2 = 16\n"
     ]
    }
   ],
   "source": [
    "for i in [0,1,2,3,4,5]:\n",
    "    if i%2 !=0:\n",
    "        continue\n",
    "    print(\"%d ^2 = %2d\" % (i,i*i))"
   ]
  },
  {
   "cell_type": "code",
   "execution_count": 80,
   "id": "2141160f",
   "metadata": {},
   "outputs": [
    {
     "name": "stdout",
     "output_type": "stream",
     "text": [
      "0 ^2 =  0\n"
     ]
    }
   ],
   "source": [
    "for i in [0,1,2,3,4,5]:\n",
    "    if i%2 !=0:\n",
    "        break\n",
    "    print(\"%d ^2 = %2d\" % (i,i*i))"
   ]
  },
  {
   "cell_type": "code",
   "execution_count": 81,
   "id": "05a638ab",
   "metadata": {},
   "outputs": [
    {
     "name": "stdout",
     "output_type": "stream",
     "text": [
      "10\n"
     ]
    }
   ],
   "source": [
    "def min(a,b):\n",
    "    if a>b:\n",
    "        return b\n",
    "    else:\n",
    "        return a\n",
    "c=min(10,20)\n",
    "print(c)"
   ]
  },
  {
   "cell_type": "code",
   "execution_count": 83,
   "id": "5274d48e",
   "metadata": {},
   "outputs": [
    {
     "name": "stdout",
     "output_type": "stream",
     "text": [
      "1.5 1\n"
     ]
    }
   ],
   "source": [
    "def divide(a,b):\n",
    "    return(a/b,a%b)\n",
    "q,r=divide(3,2)\n",
    "print (q,r)"
   ]
  },
  {
   "cell_type": "code",
   "execution_count": 84,
   "id": "5fd12d48",
   "metadata": {},
   "outputs": [
    {
     "name": "stdout",
     "output_type": "stream",
     "text": [
      "1.5\n"
     ]
    }
   ],
   "source": [
    "print(3/2)"
   ]
  },
  {
   "cell_type": "code",
   "execution_count": 85,
   "id": "9ebdf4ef",
   "metadata": {},
   "outputs": [
    {
     "name": "stdout",
     "output_type": "stream",
     "text": [
      "1\n"
     ]
    }
   ],
   "source": [
    "print(int(3/2))"
   ]
  },
  {
   "cell_type": "code",
   "execution_count": null,
   "id": "3b80af00",
   "metadata": {},
   "outputs": [],
   "source": []
  }
 ],
 "metadata": {
  "kernelspec": {
   "display_name": "Python 3 (ipykernel)",
   "language": "python",
   "name": "python3"
  },
  "language_info": {
   "codemirror_mode": {
    "name": "ipython",
    "version": 3
   },
   "file_extension": ".py",
   "mimetype": "text/x-python",
   "name": "python",
   "nbconvert_exporter": "python",
   "pygments_lexer": "ipython3",
   "version": "3.9.13"
  }
 },
 "nbformat": 4,
 "nbformat_minor": 5
}
