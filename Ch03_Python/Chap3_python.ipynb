{
 "cells": [
  {
   "cell_type": "code",
   "execution_count": 17,
   "id": "698f205b",
   "metadata": {},
   "outputs": [
    {
     "name": "stdout",
     "output_type": "stream",
     "text": [
      "“Hello World\n"
     ]
    }
   ],
   "source": [
    "print (\"“Hello World\")\n"
   ]
  },
  {
   "cell_type": "markdown",
   "id": "b4416967",
   "metadata": {},
   "source": [
    "# 표현식 및 수학식 입력 가능"
   ]
  },
  {
   "cell_type": "code",
   "execution_count": 18,
   "id": "3669a209",
   "metadata": {},
   "outputs": [
    {
     "data": {
      "text/plain": [
       "6"
      ]
     },
     "execution_count": 18,
     "metadata": {},
     "output_type": "execute_result"
    }
   ],
   "source": [
    "1+2+3"
   ]
  },
  {
   "cell_type": "code",
   "execution_count": 19,
   "id": "a9d19d9e",
   "metadata": {},
   "outputs": [
    {
     "data": {
      "text/plain": [
       "True"
      ]
     },
     "execution_count": 19,
     "metadata": {},
     "output_type": "execute_result"
    }
   ],
   "source": [
    "(0 < 1) and (2 < 3)\n"
   ]
  },
  {
   "cell_type": "code",
   "execution_count": 20,
   "id": "0b895798",
   "metadata": {},
   "outputs": [
    {
     "data": {
      "text/plain": [
       "True"
      ]
     },
     "execution_count": 20,
     "metadata": {},
     "output_type": "execute_result"
    }
   ],
   "source": [
    "not (1 == 2)\n"
   ]
  },
  {
   "cell_type": "markdown",
   "id": "0d9aa4cd",
   "metadata": {},
   "source": [
    "# 변수와 표현식"
   ]
  },
  {
   "cell_type": "code",
   "execution_count": 21,
   "id": "c0828ef5",
   "metadata": {},
   "outputs": [
    {
     "name": "stdout",
     "output_type": "stream",
     "text": [
      "3.600000 is 1.2 * 3\n"
     ]
    }
   ],
   "source": [
    "n=1\n",
    "name='kim'\n",
    "n=n+2\n",
    "value=1.2*n\n",
    "print(\"%f is 1.2 * %d\" % (value,n))"
   ]
  },
  {
   "cell_type": "code",
   "execution_count": 1,
   "id": "8ca24f87",
   "metadata": {},
   "outputs": [
    {
     "name": "stdout",
     "output_type": "stream",
     "text": [
      " 1 1\n",
      " 2 2\n",
      " 3 3\n",
      " 4 5\n",
      " 5 8\n",
      " 6 13\n",
      " 7 21\n",
      " 8 34\n",
      " 9 55\n"
     ]
    }
   ],
   "source": [
    "#피보나치 수열 출력\n",
    "num = 1\n",
    "prev = 0\n",
    "cur = 1\n",
    "while num < 10:\n",
    "    next = cur + prev\n",
    "    print (\"%2d %d\" % (num, next))\n",
    "    prev = cur\n",
    "    cur = next\n",
    "    num += 1\n"
   ]
  },
  {
   "cell_type": "markdown",
   "id": "1727ef79",
   "metadata": {},
   "source": [
    "# 문자열 상수"
   ]
  },
  {
   "cell_type": "code",
   "execution_count": 38,
   "id": "f9190507",
   "metadata": {},
   "outputs": [
    {
     "name": "stdout",
     "output_type": "stream",
     "text": [
      "H\n",
      " Wo\n",
      "d\n",
      "Hello WorldHello World\n",
      "Hello WorldGoodbye\n"
     ]
    }
   ],
   "source": [
    "# 문자열 상수\n",
    "a = \"Hello World\"\n",
    "print(a[0])\n",
    "print(a[5:8])\n",
    "print(a[-1])\n",
    "print(a*2)\n",
    "b=\"Goodbye\"\n",
    "print(a+b)"
   ]
  },
  {
   "cell_type": "markdown",
   "id": "d03a7ea9",
   "metadata": {},
   "source": [
    "# 리스트(list)"
   ]
  },
  {
   "cell_type": "code",
   "execution_count": 42,
   "id": "dbfc0288",
   "metadata": {},
   "outputs": [
    {
     "name": "stdout",
     "output_type": "stream",
     "text": [
      "0\n",
      "['Park', 'Choi']\n",
      "[0, 1, 2, 3, 'Kim', 'Lee', 'Park', 'Choi']\n"
     ]
    }
   ],
   "source": [
    "numbers = [0, 1, 2, 3]\n",
    "names = [\"Kim\", \"Lee\", \"Park\", \"Choi\"]\n",
    "print(numbers[0])\n",
    "print(names[2:])\n",
    "print(numbers+names)\n"
   ]
  },
  {
   "cell_type": "markdown",
   "id": "526688e3",
   "metadata": {},
   "source": [
    "# 튜플 (tuple)"
   ]
  },
  {
   "cell_type": "code",
   "execution_count": 2,
   "id": "bc2bda32",
   "metadata": {},
   "outputs": [
    {
     "name": "stdout",
     "output_type": "stream",
     "text": [
      "()\n",
      "(('Kim', 24, 'male'),)\n",
      "name= Kim\n"
     ]
    }
   ],
   "source": [
    "person = ( \"Kim\", 24, 'male')\n",
    "a = ( )\n",
    "print(a)\n",
    "b = (person, )\n",
    "print(b)\n",
    "name, age, gender = person\n",
    "print('name=',name)"
   ]
  },
  {
   "cell_type": "markdown",
   "id": "dfd0dc04",
   "metadata": {},
   "source": [
    "# 집합(set)"
   ]
  },
  {
   "cell_type": "code",
   "execution_count": 6,
   "id": "2d17ae0f",
   "metadata": {},
   "outputs": [
    {
     "name": "stdout",
     "output_type": "stream",
     "text": [
      "{'H', 'l', 'o', 'e'}\n",
      "s= {0, 2, 4, 6, 8, 'o', 'H', 'l', 'e'}\n",
      "p= set()\n"
     ]
    }
   ],
   "source": [
    "even = set([0,2,4,6,8])\n",
    "hello = set(\"Hello\")\n",
    "print(hello)\n",
    "s = even | hello\n",
    "p = even & hello\n",
    "print('s=',s)\n",
    "print('p=',p)\n",
    "even.add(10)\n",
    "hello.remove('e')\n"
   ]
  },
  {
   "cell_type": "markdown",
   "id": "165a9d75",
   "metadata": {},
   "source": [
    "# 사전 (dictionary)"
   ]
  },
  {
   "cell_type": "code",
   "execution_count": 7,
   "id": "7684b118",
   "metadata": {},
   "outputs": [
    {
     "name": "stdout",
     "output_type": "stream",
     "text": [
      "myname= Kim\n",
      "{'name': 'Kim', 'age': 35, 'gender': 'male'}\n"
     ]
    }
   ],
   "source": [
    "me = { \"name\": \"Kim\", \"age\": 44, \"gender\": \"male\"}\n",
    "myname = me[\"name\"]\n",
    "print('myname=',myname)\n",
    "me[\"age\"] = 35\n",
    "print(me)\n",
    "dict = {}"
   ]
  },
  {
   "cell_type": "markdown",
   "id": "5bd17feb",
   "metadata": {},
   "source": [
    "# 객체의 속성"
   ]
  },
  {
   "cell_type": "code",
   "execution_count": 9,
   "id": "60994314",
   "metadata": {},
   "outputs": [
    {
     "name": "stdout",
     "output_type": "stream",
     "text": [
      "<class 'int'>\n",
      "<class 'list'>\n",
      "<class 'type'>\n"
     ]
    }
   ],
   "source": [
    "print(type(10))\n",
    "print(type([1,2]))\n",
    "print(type(type(10)))\n"
   ]
  },
  {
   "cell_type": "markdown",
   "id": "c070b127",
   "metadata": {},
   "source": [
    "# 조건문"
   ]
  },
  {
   "cell_type": "code",
   "execution_count": 13,
   "id": "91759292",
   "metadata": {},
   "outputs": [
    {
     "name": "stdout",
     "output_type": "stream",
     "text": [
      "this is positive\n"
     ]
    }
   ],
   "source": [
    "i=6\n",
    "if i > 0:\n",
    "    print(\"this is positive\")\n",
    "elif i == 0:\n",
    "    print(\"this is zero\")\n",
    "else:\n",
    "    print (\"this is negative\")\n"
   ]
  },
  {
   "cell_type": "markdown",
   "id": "a97dbcfd",
   "metadata": {},
   "source": [
    "# 반복문"
   ]
  },
  {
   "cell_type": "code",
   "execution_count": 14,
   "id": "62593638",
   "metadata": {},
   "outputs": [
    {
     "name": "stdout",
     "output_type": "stream",
     "text": [
      "0 ^ 2 = 0\n",
      "1 ^ 2 = 1\n",
      "2 ^ 2 = 4\n",
      "3 ^ 2 = 9\n",
      "4 ^ 2 = 16\n",
      "c= range(1, 6)\n"
     ]
    }
   ],
   "source": [
    "for i in range(5) :\n",
    "    print (\"%d ^ 2 = %d\" % (i, i*i))\n",
    "c = range(1,6) # c = 1,2,3,4,5\n",
    "print(\"c=\",c)"
   ]
  },
  {
   "cell_type": "markdown",
   "id": "3731c1ca",
   "metadata": {},
   "source": [
    "# 반복문"
   ]
  },
  {
   "cell_type": "code",
   "execution_count": 15,
   "id": "007ca3cf",
   "metadata": {},
   "outputs": [
    {
     "name": "stdout",
     "output_type": "stream",
     "text": [
      "0 ^ 2 = 0\n"
     ]
    }
   ],
   "source": [
    "for i in [0, 1, 2, 3, 4]:\n",
    "    if i % 2 != 0:\n",
    "        break\n",
    "    print (\"%d ^ 2 = %d\" % (i, i*i))\n"
   ]
  },
  {
   "cell_type": "code",
   "execution_count": 16,
   "id": "c95d5f83",
   "metadata": {},
   "outputs": [
    {
     "name": "stdout",
     "output_type": "stream",
     "text": [
      "0 ^ 2 = 0\n",
      "2 ^ 2 = 4\n",
      "4 ^ 2 = 16\n"
     ]
    }
   ],
   "source": [
    "for i in [0, 1, 2, 3, 4]:\n",
    "    if i % 2 != 0:\n",
    "        continue\n",
    "    print (\"%d ^ 2 = %d\" % (i, i*i))\n"
   ]
  },
  {
   "cell_type": "markdown",
   "id": "14e51e49",
   "metadata": {},
   "source": [
    "# 함수"
   ]
  },
  {
   "cell_type": "code",
   "execution_count": 19,
   "id": "e765fce1",
   "metadata": {},
   "outputs": [
    {
     "name": "stdout",
     "output_type": "stream",
     "text": [
      "10\n"
     ]
    }
   ],
   "source": [
    "def min(a, b):\n",
    "    if a > b:\n",
    "        return b\n",
    "    else:\n",
    "        return a\n",
    "print(min(10, 20))\n"
   ]
  },
  {
   "cell_type": "code",
   "execution_count": 20,
   "id": "f3be7020",
   "metadata": {},
   "outputs": [
    {
     "name": "stdout",
     "output_type": "stream",
     "text": [
      "1.5 1\n"
     ]
    }
   ],
   "source": [
    "def divide(a, b):\n",
    "    return (a/b, a%b)\n",
    "q, r = divide(3,2)\n",
    "print(q, r) # (정수형/정수형: 실수형 출력 (교재와 틀림))"
   ]
  },
  {
   "cell_type": "code",
   "execution_count": 22,
   "id": "b1355f0d",
   "metadata": {},
   "outputs": [
    {
     "name": "stdout",
     "output_type": "stream",
     "text": [
      "0 2\n"
     ]
    }
   ],
   "source": [
    "# 함수의 범위\n",
    "m = 0\n",
    "n = 1\n",
    "def func():\n",
    "    global n\n",
    "    #m += 1\n",
    "    n += 1\n",
    "func()\n",
    "print (m, n)\n"
   ]
  },
  {
   "cell_type": "code",
   "execution_count": 23,
   "id": "1cc6cd18",
   "metadata": {},
   "outputs": [
    {
     "name": "stdout",
     "output_type": "stream",
     "text": [
      "t = 0\n",
      "t = 1\n",
      "t = 2\n",
      "t = 3\n",
      "t = 4\n",
      "t = 5\n",
      "t = 6\n",
      "t = 7\n",
      "t = 8\n",
      "t = 9\n"
     ]
    }
   ],
   "source": [
    "# 함수의 중첩\n",
    "def counter(max):\n",
    "    t = 0\n",
    "    def output():\n",
    "        print (\"t = %d\" % t)\n",
    "    while t < max:\n",
    "        output()\n",
    "        t += 1\n",
    "counter(10)"
   ]
  },
  {
   "cell_type": "code",
   "execution_count": 24,
   "id": "41616ac2",
   "metadata": {},
   "outputs": [
    {
     "name": "stdout",
     "output_type": "stream",
     "text": [
      "t = 0\n",
      "t = 1\n",
      "t = 2\n",
      "t = 3\n",
      "t = 4\n",
      "t = 5\n",
      "t = 6\n",
      "t = 7\n",
      "t = 8\n",
      "t = 9\n"
     ]
    }
   ],
   "source": [
    "# 함수의 중첩\n",
    "def counter(max):\n",
    "    t = 0\n",
    "    def output():\n",
    "        print (\"t = %d\" % t)\n",
    "    while t < max:\n",
    "        output()\n",
    "        t += 1\n",
    "counter(10)"
   ]
  },
  {
   "cell_type": "code",
   "execution_count": 26,
   "id": "a17e4272",
   "metadata": {},
   "outputs": [
    {
     "data": {
      "text/plain": [
       "6"
      ]
     },
     "execution_count": 26,
     "metadata": {},
     "output_type": "execute_result"
    }
   ],
   "source": [
    "# 재귀함수\n",
    "def factorial(n):\n",
    "    if n <= 1:\n",
    "        return 1\n",
    "    else:\n",
    "        return n * factorial(n - 1)\n",
    "factorial(3)"
   ]
  },
  {
   "cell_type": "code",
   "execution_count": 28,
   "id": "2ea4fe91",
   "metadata": {},
   "outputs": [
    {
     "name": "stdout",
     "output_type": "stream",
     "text": [
      "3\n"
     ]
    }
   ],
   "source": [
    "# lambda 함수\n",
    "a = lambda x, y : x+y\n",
    "print(a(1,2))"
   ]
  },
  {
   "cell_type": "markdown",
   "id": "4ecd347d",
   "metadata": {},
   "source": [
    "# 클로저(closure)"
   ]
  },
  {
   "cell_type": "code",
   "execution_count": 34,
   "id": "390c9e8f",
   "metadata": {},
   "outputs": [
    {
     "name": "stdout",
     "output_type": "stream",
     "text": [
      "Hello World\n"
     ]
    }
   ],
   "source": [
    "import func\n",
    "def hello():\n",
    "    return \"Hello World\"\n",
    "print(func.func(hello))"
   ]
  },
  {
   "cell_type": "markdown",
   "id": "64028042",
   "metadata": {},
   "source": [
    "# 장식자(decorator)"
   ]
  },
  {
   "cell_type": "code",
   "execution_count": 36,
   "id": "66f3a33b",
   "metadata": {},
   "outputs": [
    {
     "name": "stdout",
     "output_type": "stream",
     "text": [
      "hello\n",
      "f1() runned.\n",
      "bye\n",
      "------\n",
      "f2() runned.\n",
      "------\n",
      "hello\n",
      "f3() runned.\n",
      "bye\n"
     ]
    }
   ],
   "source": [
    "def helloBye(func):\n",
    "    def wrapper():\n",
    "        print( \"hello\")\n",
    "        func()\n",
    "        print (\"bye\")\n",
    "    return wrapper\n",
    "\n",
    "@helloBye\n",
    "def f1():\n",
    "    print (\"f1() runned.\")\n",
    "    \n",
    "def f2():\n",
    "    print (\"f2() runned.\")\n",
    "    \n",
    "@helloBye\n",
    "def f3():\n",
    "    print (\"f3() runned.\")\n",
    "    \n",
    "if __name__ == '__main__':\n",
    "    f1()\n",
    "    print( \"------\")\n",
    "    f2()\n",
    "    print (\"------\")\n",
    "    f3()\n"
   ]
  },
  {
   "cell_type": "markdown",
   "id": "f5e8773e",
   "metadata": {},
   "source": [
    "# 생성기(generator)"
   ]
  },
  {
   "cell_type": "code",
   "execution_count": 54,
   "id": "c04d0bdb",
   "metadata": {},
   "outputs": [
    {
     "ename": "TypeError",
     "evalue": "'int' object is not callable",
     "output_type": "error",
     "traceback": [
      "\u001b[1;31m---------------------------------------------------------------------------\u001b[0m",
      "\u001b[1;31mTypeError\u001b[0m                                 Traceback (most recent call last)",
      "Cell \u001b[1;32mIn[54], line 10\u001b[0m\n\u001b[0;32m      7\u001b[0m timer \u001b[38;5;241m=\u001b[39m counter3(\u001b[38;5;241m5\u001b[39m)\n\u001b[0;32m      8\u001b[0m \u001b[38;5;66;03m#timer.next() # ERROR:'generator' object has no attribute 'next'\u001b[39;00m\n\u001b[0;32m      9\u001b[0m \u001b[38;5;66;03m#timer.next()\u001b[39;00m\n\u001b[1;32m---> 10\u001b[0m \u001b[38;5;28mprint\u001b[39m(\u001b[38;5;28;43mnext\u001b[39;49m\u001b[43m(\u001b[49m\u001b[43mtimer\u001b[49m\u001b[43m)\u001b[49m)\n",
      "\u001b[1;31mTypeError\u001b[0m: 'int' object is not callable"
     ]
    }
   ],
   "source": [
    "def counter3(max):\n",
    "    t = 0\n",
    "    while t < max:\n",
    "        yield t\n",
    "        t += 1\n",
    "    return\n",
    "timer = counter3(5)\n",
    "#timer.next() # ERROR:'generator' object has no attribute 'next'\n",
    "#timer.next()\n",
    "print(next(timer)) # ERROR: 'int' object is not callable. Upgrade되면서 이 방법도 에러. 따라서 생성기는 사용하지 말길 바람\n"
   ]
  },
  {
   "cell_type": "markdown",
   "id": "ad6cc722",
   "metadata": {},
   "source": [
    "# 리스트 내포 (list comprehension)"
   ]
  },
  {
   "cell_type": "code",
   "execution_count": 59,
   "id": "7592e2b2",
   "metadata": {},
   "outputs": [
    {
     "name": "stdout",
     "output_type": "stream",
     "text": [
      "[0, 2, 4, 6, 8]\n",
      "<generator object <genexpr> at 0x000001F1E59A7290>\n"
     ]
    },
    {
     "ename": "AttributeError",
     "evalue": "'generator' object has no attribute 'next'",
     "output_type": "error",
     "traceback": [
      "\u001b[1;31m---------------------------------------------------------------------------\u001b[0m",
      "\u001b[1;31mAttributeError\u001b[0m                            Traceback (most recent call last)",
      "Cell \u001b[1;32mIn[59], line 7\u001b[0m\n\u001b[0;32m      5\u001b[0m \u001b[38;5;28mprint\u001b[39m(evens2)\n\u001b[0;32m      6\u001b[0m \u001b[38;5;66;03m#print(next(evens2))\u001b[39;00m\n\u001b[1;32m----> 7\u001b[0m \u001b[38;5;28mprint\u001b[39m(\u001b[43mevens2\u001b[49m\u001b[38;5;241;43m.\u001b[39;49m\u001b[43mnext\u001b[49m())\n",
      "\u001b[1;31mAttributeError\u001b[0m: 'generator' object has no attribute 'next'"
     ]
    }
   ],
   "source": [
    "numbers = [0, 1, 2, 3, 4]\n",
    "evens = [2*i for i in numbers]\n",
    "print(evens)\n",
    "evens2 = (2*i for i in numbers)\n",
    "print(evens2)\n",
    "#print(next(evens2)). gnerator에서처럼 에러남. 사용하지 말길.\n",
    "#print(evens2.next()). gnerator에서처럼 에러남. 사용하지 말길."
   ]
  },
  {
   "cell_type": "markdown",
   "id": "a183b5a2",
   "metadata": {},
   "source": [
    "# 클래스와 객체"
   ]
  },
  {
   "cell_type": "code",
   "execution_count": 62,
   "id": "19395e53",
   "metadata": {},
   "outputs": [],
   "source": [
    "class Rectangle:\n",
    "    count = 0 # 클래스 변수\n",
    "    # 초기자(initializer)\n",
    "    def __init__(self, width, height):\n",
    "        # self.* : 인스턴스변수\n",
    "        self.width = width\n",
    "        self.height = height\n",
    "        Rectangle.count += 1\n",
    "\n",
    "    # 메서드\n",
    "    def calcArea(self):\n",
    "        area = self.width * self.height\n",
    "        return area"
   ]
  },
  {
   "cell_type": "code",
   "execution_count": 63,
   "id": "07f31017",
   "metadata": {},
   "outputs": [
    {
     "name": "stdout",
     "output_type": "stream",
     "text": [
      "area =  6\n",
      "width =  10\n",
      "1\n",
      "1\n"
     ]
    }
   ],
   "source": [
    "# 인스턴스 생성\n",
    "r = Rectangle(2, 3)\n",
    "# 메서드 호출\n",
    "area = r.calcArea()\n",
    "print(\"area = \", area)\n",
    "# 인스턴스 변수 엑세스\n",
    "r.width = 10\n",
    "print(\"width = \", r.width)\n",
    "# 클래스 변수 엑세스\n",
    "print(Rectangle.count)\n",
    "print(r.count)\n"
   ]
  },
  {
   "cell_type": "code",
   "execution_count": null,
   "id": "02992c62",
   "metadata": {},
   "outputs": [],
   "source": [
    "class Animal:\n",
    "    def __init__(self, name):\n",
    "        self.name = name\n",
    "    def move(self):\n",
    "        print(\"move\")\n",
    "    def speak(self):\n",
    "        pass\n",
    "class Dog (Animal):\n",
    "    def speak(self):\n",
    "        print(\"bark\")\n",
    "class Duck (Animal):\n",
    "    def speak(self):\n",
    "        print(\"quack\")"
   ]
  },
  {
   "cell_type": "code",
   "execution_count": null,
   "id": "d7a6bc1a",
   "metadata": {},
   "outputs": [],
   "source": [
    "dog = Dog(\"doggy\") # 부모클래스의 생성자\n",
    "n = dog.name # 부모클래스의 인스턴스변수\n",
    "print(\"name= \", n) \n",
    "print(\"name= \", dog.name)\n",
    "dog.move() # 부모클래스의 메서드\n",
    "dog.speak() # 파생클래스의 멤버\n"
   ]
  },
  {
   "cell_type": "code",
   "execution_count": 2,
   "id": "408ce1ab",
   "metadata": {},
   "outputs": [
    {
     "name": "stdout",
     "output_type": "stream",
     "text": [
      "Test file.\n"
     ]
    }
   ],
   "source": [
    "f = open(\"test.txt\")\n",
    "line = f.readline()\n",
    "while line:\n",
    "    print(line)\n",
    "    line = f.readline()\n",
    "f.close()"
   ]
  },
  {
   "cell_type": "code",
   "execution_count": 3,
   "id": "8e4f30d9",
   "metadata": {},
   "outputs": [],
   "source": [
    "f1=open(\"out.txt\",\"w\")\n",
    "f1.write(\"This file is %s\" % (\"out.txt\"))\n",
    "f1.close()"
   ]
  },
  {
   "cell_type": "code",
   "execution_count": 4,
   "id": "f385096d",
   "metadata": {},
   "outputs": [],
   "source": [
    "with open(\"out1.txt\",\"w\") as f2:\n",
    "\tf2.write(\"This file is %s\" % (\"out1.txt\"))\n",
    "\n",
    "f3 = open(\"out2.txt\", \"w\")\n",
    "print(\"This files is %s\" % (\"out2.txt\"), file=f3)"
   ]
  },
  {
   "cell_type": "code",
   "execution_count": 5,
   "id": "aa9af6c1",
   "metadata": {},
   "outputs": [
    {
     "name": "stdout",
     "output_type": "stream",
     "text": [
      "Enter your name: Lee\n",
      "Your name is Lee\n"
     ]
    }
   ],
   "source": [
    "import sys\n",
    "sys.stdout.write(\"Enter your name: \")\n",
    "#name = sys.stdin.readline()\n",
    "name = input()\n",
    "print(\"Your name is %s\" % name) "
   ]
  },
  {
   "cell_type": "code",
   "execution_count": 6,
   "id": "ffa06548",
   "metadata": {},
   "outputs": [
    {
     "name": "stdout",
     "output_type": "stream",
     "text": [
      "The list pickle is created successfully.\n"
     ]
    }
   ],
   "source": [
    "#importing pickle module\n",
    "import pickle\n",
    "\n",
    "#declaring a numbers list\n",
    "o = [1,2,3,4,5,6,'Lee']\n",
    "\n",
    "#pickling the list and storing in a file\n",
    "f = open('test.pickle','wb')\n",
    "pickle.dump(o,f)\n",
    "f.close()\n",
    "print(\"The list pickle is created successfully.\")"
   ]
  },
  {
   "cell_type": "code",
   "execution_count": 7,
   "id": "6e20a52d",
   "metadata": {},
   "outputs": [
    {
     "name": "stdout",
     "output_type": "stream",
     "text": [
      "[1, 2, 3, 4, 5, 6, 'Lee']\n"
     ]
    }
   ],
   "source": [
    "f = open(\"test.pickle\",\"rb\")\n",
    "o = pickle.load(f)\n",
    "print(o)\n",
    "f.close()"
   ]
  },
  {
   "cell_type": "code",
   "execution_count": 8,
   "id": "2dcaee87",
   "metadata": {},
   "outputs": [
    {
     "name": "stdout",
     "output_type": "stream",
     "text": [
      "Enter numenator : 6\n",
      "Enter denomenator : 3\n",
      "Answer: 2.000000\n"
     ]
    }
   ],
   "source": [
    "x = input('Enter numenator : ')\n",
    "y = input('Enter denomenator : ')\n",
    "\n",
    "try:\n",
    "\ta = int(x)\n",
    "\tb = int(y)\n",
    "\tc = a/b\n",
    "\tprint(\"Answer: %f\" % c)\n",
    "except ValueError as e:\n",
    "    \tprint(\"%s. %s\" % (e, 'Check if input string is parsable integer'))\n",
    "except ZeroDivisionError:\n",
    "    \tprint('Denomenator is zero.')"
   ]
  },
  {
   "cell_type": "code",
   "execution_count": null,
   "id": "f90e87ac",
   "metadata": {},
   "outputs": [],
   "source": [
    "with open(\"test.txt\",\"a\") as f:\n",
    "\tf.write(\"write string\")\n",
    "\tf.write(\"end\\n\")\n"
   ]
  }
 ],
 "metadata": {
  "kernelspec": {
   "display_name": "Python 3 (ipykernel)",
   "language": "python",
   "name": "python3"
  },
  "language_info": {
   "codemirror_mode": {
    "name": "ipython",
    "version": 3
   },
   "file_extension": ".py",
   "mimetype": "text/x-python",
   "name": "python",
   "nbconvert_exporter": "python",
   "pygments_lexer": "ipython3",
   "version": "3.10.9"
  }
 },
 "nbformat": 4,
 "nbformat_minor": 5
}
