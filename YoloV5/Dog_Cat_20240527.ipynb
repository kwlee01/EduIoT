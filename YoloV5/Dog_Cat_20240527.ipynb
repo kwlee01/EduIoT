{
  "nbformat": 4,
  "nbformat_minor": 0,
  "metadata": {
    "colab": {
      "private_outputs": true,
      "provenance": [],
      "gpuType": "T4"
    },
    "kernelspec": {
      "name": "python3",
      "display_name": "Python 3"
    },
    "language_info": {
      "name": "python"
    },
    "accelerator": "GPU"
  },
  "cells": [
    {
      "cell_type": "code",
      "execution_count": null,
      "metadata": {
        "id": "mq4EMaDoZChR"
      },
      "outputs": [],
      "source": [
        "!pip install roboflow\n",
        "\n",
        "from roboflow import Roboflow\n",
        "rf = Roboflow(api_key=\"TBRLoVWy0oCer6eiqK0g\")\n",
        "project = rf.workspace(\"cku\").project(\"dog-and-cats-classification\")\n",
        "version = project.version(1)\n",
        "dataset = version.download(\"yolov5\")\n"
      ]
    },
    {
      "cell_type": "code",
      "source": [
        "%cd /content"
      ],
      "metadata": {
        "id": "95jSGfzgZude"
      },
      "execution_count": null,
      "outputs": []
    },
    {
      "cell_type": "code",
      "source": [
        "!git clone https://github.com/ultralytics/yolov5"
      ],
      "metadata": {
        "id": "enPQeYQvZzPU"
      },
      "execution_count": null,
      "outputs": []
    },
    {
      "cell_type": "code",
      "source": [
        "%cd /content/yolov5/"
      ],
      "metadata": {
        "id": "x9FomY8uZ5ZV"
      },
      "execution_count": null,
      "outputs": []
    },
    {
      "cell_type": "code",
      "source": [
        "!pip install -r requirements.txt"
      ],
      "metadata": {
        "id": "uaEaANvGaBF_"
      },
      "execution_count": null,
      "outputs": []
    },
    {
      "cell_type": "code",
      "source": [
        "import os\n",
        "import shutil\n",
        "#os.mkdir('/content/dataset')\n",
        "shutil.move(\"/content/Dog-and-Cats-Classification-1/train\", \"/content/dataset\")\n",
        "shutil.move(\"/content/Dog-and-Cats-Classification-1/README.dataset.txt\",\"/content/dataset\")\n",
        "shutil.move(\"/content/Dog-and-Cats-Classification-1/README.roboflow.txt\",\"/content/dataset\")\n",
        "shutil.move(\"/content/Dog-and-Cats-Classification-1/data.yaml\",\"/content/dataset\")\n",
        "os.rename(\"/content/dataset/train\",\"/content/dataset/export\")\n"
      ],
      "metadata": {
        "id": "dX1OqM8oalPR"
      },
      "execution_count": null,
      "outputs": []
    },
    {
      "cell_type": "code",
      "source": [
        "%cat /content/dataset/data.yaml"
      ],
      "metadata": {
        "id": "8rbD0YeCcDcd"
      },
      "execution_count": null,
      "outputs": []
    },
    {
      "cell_type": "code",
      "source": [
        "%cd /\n",
        "from glob import glob\n",
        "img_list = glob('/content/dataset/export/images/*.jpg')\n",
        "print(len(img_list))\n"
      ],
      "metadata": {
        "id": "_oS8IX_kcMAf"
      },
      "execution_count": null,
      "outputs": []
    },
    {
      "cell_type": "code",
      "source": [
        "from sklearn.model_selection import train_test_split\n",
        "train_img_list, val_img_list = train_test_split(img_list, test_size=0.2, random_state=2000)\n",
        "print(len(train_img_list),len(val_img_list))\n"
      ],
      "metadata": {
        "id": "1eF9siZRcVFY"
      },
      "execution_count": null,
      "outputs": []
    },
    {
      "cell_type": "code",
      "source": [
        "with open('/content/dataset/train.txt', 'w') as f:\n",
        "  f.write('\\n'.join(train_img_list) + '\\n')\n",
        "with open('/content/dataset/val.txt', 'w') as f:\n",
        "  f.write('\\n'.join(val_img_list) + '\\n')\n"
      ],
      "metadata": {
        "id": "BdA_xanXcZgo"
      },
      "execution_count": null,
      "outputs": []
    },
    {
      "cell_type": "code",
      "source": [
        "import yaml\n",
        "with open('/content/dataset/data.yaml','r') as f:\n",
        "    data = yaml.full_load(f)\n"
      ],
      "metadata": {
        "id": "Tr8LoYKBcgli"
      },
      "execution_count": null,
      "outputs": []
    },
    {
      "cell_type": "code",
      "source": [
        "data['train']='/content/dataset/train.txt'\n",
        "data['val']='/content/dataset/val.txt'\n",
        "with open('/content/dataset/data.yaml','w') as f:\n",
        "    yaml.dump(data,f)\n"
      ],
      "metadata": {
        "id": "j32YEiQhcl8k"
      },
      "execution_count": null,
      "outputs": []
    },
    {
      "cell_type": "code",
      "source": [
        "print(data)"
      ],
      "metadata": {
        "id": "ROpVvIItcsu-"
      },
      "execution_count": null,
      "outputs": []
    },
    {
      "cell_type": "code",
      "source": [
        "%cd /content/yolov5/\n",
        "!python train.py --img 416 --batch 16 --epochs 50 --data /content/dataset/data.yaml --cfg ./models/yolov5s.yaml --weights yolov5s.pt --name dog_cats_yolov5s_results\n"
      ],
      "metadata": {
        "id": "OBZRAI-ycwQe"
      },
      "execution_count": null,
      "outputs": []
    },
    {
      "cell_type": "code",
      "source": [
        "!python detect.py --weights /content/yolov5/runs/train/dog_cats_yolov5s_results/weights/best.pt --img 416 --source /content/dataset/test/dog1.png"
      ],
      "metadata": {
        "id": "RTeKxDtSehMT"
      },
      "execution_count": null,
      "outputs": []
    },
    {
      "cell_type": "code",
      "source": [
        "!python detect.py --weights /content/yolov5/runs/train/dog_cats_yolov5s_results/weights/best.pt --img 416 --source /content/dataset/test/Cat1.png\n"
      ],
      "metadata": {
        "id": "4cmMJ46ViNFY"
      },
      "execution_count": null,
      "outputs": []
    },
    {
      "cell_type": "markdown",
      "source": [],
      "metadata": {
        "id": "P-B4W_6Veg84"
      }
    }
  ]
}